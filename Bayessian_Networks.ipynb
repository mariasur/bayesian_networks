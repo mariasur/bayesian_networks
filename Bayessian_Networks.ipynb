{
  "nbformat": 4,
  "nbformat_minor": 0,
  "metadata": {
    "kernelspec": {
      "display_name": "Python 3",
      "language": "python",
      "name": "python3"
    },
    "language_info": {
      "codemirror_mode": {
        "name": "ipython",
        "version": 3
      },
      "file_extension": ".py",
      "mimetype": "text/x-python",
      "name": "python",
      "nbconvert_exporter": "python",
      "pygments_lexer": "ipython3",
      "version": "3.7.3"
    },
    "colab": {
      "name": "Bayessian Networks HW1.ipynb",
      "provenance": []
    }
  },
  "cells": [
    {
      "cell_type": "code",
      "metadata": {
        "id": "nKlzyJbWRBiH",
        "colab_type": "code",
        "colab": {}
      },
      "source": [
        "import numpy as np\n",
        "import pandas as pd\n",
        "import matplotlib.pyplot as plt\n",
        "from pomegranate import *\n",
        "from pygraphviz import *\n",
        "import seaborn as sns\n",
        "from sklearn import model_selection, metrics\n",
        "\n",
        "%matplotlib inline"
      ],
      "execution_count": null,
      "outputs": []
    },
    {
      "cell_type": "markdown",
      "metadata": {
        "id": "bHpfcJFqRBiL",
        "colab_type": "text"
      },
      "source": [
        "### Чтение датасета и анализ"
      ]
    },
    {
      "cell_type": "markdown",
      "metadata": {
        "id": "UfT86yJlRsCk",
        "colab_type": "text"
      },
      "source": [
        "Для анализа предлагаются следующие данные. Полное описание датасета: https://www.bnlearn.com/documentation/man/insurance.html.\n",
        "\n",
        "**Задачи:**\n",
        "1. Необходимо выбрать часть переменных для построения сети.\n",
        "2. Выбрать 2000-3000 наблюдений для ускорения вычислений (случайно или на основании каких-нибудь переменных).\n",
        "3. Построить байесовскую сеть разными способами.\n",
        "4. Сравнить полученные результаты.\n",
        "5. Сравнить качество предсказаний по модели для переменной ThisCarCost - стоимость застрахованного автомобиля.\n",
        "\n",
        "\n",
        "Загрузим датасет и выберем для исследования следующие признаки:\n",
        "\n",
        "\n",
        "*   SocioEcon - социально-экономический статус;\n",
        "*   RiskAversion - склонность избегать риск;\n",
        "*   DrivQuality - качество вождения;\n",
        "*   Accident - тяжесть несчастного случая;\n",
        "*   CarValue - стоимость автомобиля;\n",
        "*   ThisCarCost - расходы на застрахованный автомобиль."
      ]
    },
    {
      "cell_type": "code",
      "metadata": {
        "id": "8yDMRP2HRBiM",
        "colab_type": "code",
        "colab": {},
        "outputId": "0421623b-7615-4b8a-8e6a-dab4f570dc98"
      },
      "source": [
        "all_df = pd.read_csv(\"insurance.csv\", dtype = str, \n",
        "                 usecols=['SocioEcon', 'DrivQuality', 'RiskAversion', 'CarValue', 'Accident', 'ThisCarCost'])\n",
        "all_df.head()"
      ],
      "execution_count": null,
      "outputs": [
        {
          "output_type": "execute_result",
          "data": {
            "text/html": [
              "<div>\n",
              "<style scoped>\n",
              "    .dataframe tbody tr th:only-of-type {\n",
              "        vertical-align: middle;\n",
              "    }\n",
              "\n",
              "    .dataframe tbody tr th {\n",
              "        vertical-align: top;\n",
              "    }\n",
              "\n",
              "    .dataframe thead th {\n",
              "        text-align: right;\n",
              "    }\n",
              "</style>\n",
              "<table border=\"1\" class=\"dataframe\">\n",
              "  <thead>\n",
              "    <tr style=\"text-align: right;\">\n",
              "      <th></th>\n",
              "      <th>SocioEcon</th>\n",
              "      <th>RiskAversion</th>\n",
              "      <th>Accident</th>\n",
              "      <th>DrivQuality</th>\n",
              "      <th>ThisCarCost</th>\n",
              "      <th>CarValue</th>\n",
              "    </tr>\n",
              "  </thead>\n",
              "  <tbody>\n",
              "    <tr>\n",
              "      <th>0</th>\n",
              "      <td>Prole</td>\n",
              "      <td>Adventurous</td>\n",
              "      <td>Mild</td>\n",
              "      <td>Poor</td>\n",
              "      <td>TenThou</td>\n",
              "      <td>FiveThou</td>\n",
              "    </tr>\n",
              "    <tr>\n",
              "      <th>1</th>\n",
              "      <td>Prole</td>\n",
              "      <td>Cautious</td>\n",
              "      <td>None</td>\n",
              "      <td>Normal</td>\n",
              "      <td>Thousand</td>\n",
              "      <td>TenThou</td>\n",
              "    </tr>\n",
              "    <tr>\n",
              "      <th>2</th>\n",
              "      <td>UpperMiddle</td>\n",
              "      <td>Psychopath</td>\n",
              "      <td>None</td>\n",
              "      <td>Excellent</td>\n",
              "      <td>Thousand</td>\n",
              "      <td>TwentyThou</td>\n",
              "    </tr>\n",
              "    <tr>\n",
              "      <th>3</th>\n",
              "      <td>Middle</td>\n",
              "      <td>Normal</td>\n",
              "      <td>None</td>\n",
              "      <td>Normal</td>\n",
              "      <td>Thousand</td>\n",
              "      <td>FiveThou</td>\n",
              "    </tr>\n",
              "    <tr>\n",
              "      <th>4</th>\n",
              "      <td>Prole</td>\n",
              "      <td>Normal</td>\n",
              "      <td>Moderate</td>\n",
              "      <td>Poor</td>\n",
              "      <td>TenThou</td>\n",
              "      <td>FiveThou</td>\n",
              "    </tr>\n",
              "  </tbody>\n",
              "</table>\n",
              "</div>"
            ],
            "text/plain": [
              "     SocioEcon RiskAversion  Accident DrivQuality ThisCarCost    CarValue\n",
              "0        Prole  Adventurous      Mild        Poor     TenThou    FiveThou\n",
              "1        Prole     Cautious      None      Normal    Thousand     TenThou\n",
              "2  UpperMiddle   Psychopath      None   Excellent    Thousand  TwentyThou\n",
              "3       Middle       Normal      None      Normal    Thousand    FiveThou\n",
              "4        Prole       Normal  Moderate        Poor     TenThou    FiveThou"
            ]
          },
          "metadata": {
            "tags": []
          },
          "execution_count": 2
        }
      ]
    },
    {
      "cell_type": "code",
      "metadata": {
        "id": "lxAN6U3fRBiQ",
        "colab_type": "code",
        "colab": {},
        "outputId": "dd62dd6c-5b9f-4b5e-a169-d8eb20a71ad8"
      },
      "source": [
        "all_df.info()"
      ],
      "execution_count": null,
      "outputs": [
        {
          "output_type": "stream",
          "text": [
            "<class 'pandas.core.frame.DataFrame'>\n",
            "RangeIndex: 20000 entries, 0 to 19999\n",
            "Data columns (total 6 columns):\n",
            "SocioEcon       20000 non-null object\n",
            "RiskAversion    20000 non-null object\n",
            "Accident        20000 non-null object\n",
            "DrivQuality     20000 non-null object\n",
            "ThisCarCost     20000 non-null object\n",
            "CarValue        20000 non-null object\n",
            "dtypes: object(6)\n",
            "memory usage: 937.6+ KB\n"
          ],
          "name": "stdout"
        }
      ]
    },
    {
      "cell_type": "code",
      "metadata": {
        "id": "ZXK5CqzkRBiT",
        "colab_type": "code",
        "colab": {},
        "outputId": "36ca77e2-d138-4c4b-b7fd-e1b45758f1f3"
      },
      "source": [
        "sns.catplot(x=\"Accident\", kind=\"count\", data=all_df)"
      ],
      "execution_count": null,
      "outputs": [
        {
          "output_type": "execute_result",
          "data": {
            "text/plain": [
              "<seaborn.axisgrid.FacetGrid at 0x7f43737bfba8>"
            ]
          },
          "metadata": {
            "tags": []
          },
          "execution_count": 4
        },
        {
          "output_type": "display_data",
          "data": {
            "image/png": "[encoded data removed]",
            "text/plain": [
              "<Figure size 360x360 with 1 Axes>"
            ]
          },
          "metadata": {
            "tags": [],
            "needs_background": "light"
          }
        }
      ]
    },
    {
      "cell_type": "markdown",
      "metadata": {
        "id": "YuK3QOP_T3AN",
        "colab_type": "text"
      },
      "source": [
        "Все признаки категориальные, имеют 3-5 текстовых значений. В полном датасете 20000 записей без пропущенных значений и распределение значений Accident, представленное на рис. выше. Выбирая между этим признаком и SocioEcon, следует отметить, что преобладание наблюдений без происшествий (None) характерно для всех групп SocioEcon."
      ]
    },
    {
      "cell_type": "code",
      "metadata": {
        "id": "53TGuxTgRBiW",
        "colab_type": "code",
        "colab": {},
        "outputId": "f76c8d62-f81f-4553-e2d6-ad932771a9e8"
      },
      "source": [
        "sns.countplot(x='SocioEcon', hue='Accident', data=all_df)"
      ],
      "execution_count": null,
      "outputs": [
        {
          "output_type": "execute_result",
          "data": {
            "text/plain": [
              "<matplotlib.axes._subplots.AxesSubplot at 0x7f437341b588>"
            ]
          },
          "metadata": {
            "tags": []
          },
          "execution_count": 5
        },
        {
          "output_type": "display_data",
          "data": {
            "image/png": "[encoded data removed]",
            "text/plain": [
              "<Figure size 432x288 with 1 Axes>"
            ]
          },
          "metadata": {
            "tags": [],
            "needs_background": "light"
          }
        }
      ]
    },
    {
      "cell_type": "markdown",
      "metadata": {
        "id": "QagyCLWfRBiZ",
        "colab_type": "text"
      },
      "source": [
        "### Выбор датасета"
      ]
    },
    {
      "cell_type": "markdown",
      "metadata": {
        "id": "7Q4mG1tMUVNG",
        "colab_type": "text"
      },
      "source": [
        "Так как интерес представляют ответы вероятностной модели в случаях происхождения несчастного случая, отберем из датасета записи со значениями Moderate (умеренная тяжесть) Severe (тяжелый несчастный случай)."
      ]
    },
    {
      "cell_type": "code",
      "metadata": {
        "id": "9BIjvJBERBia",
        "colab_type": "code",
        "colab": {},
        "outputId": "636f2fa5-5952-404e-ca23-9100c2140fa1"
      },
      "source": [
        "df = all_df.loc[(all_df['Accident'] == 'Moderate') | (all_df['Accident'] == 'Severe')]\n",
        "df.info()"
      ],
      "execution_count": null,
      "outputs": [
        {
          "output_type": "stream",
          "text": [
            "<class 'pandas.core.frame.DataFrame'>\n",
            "Int64Index: 3926 entries, 4 to 19981\n",
            "Data columns (total 6 columns):\n",
            "SocioEcon       3926 non-null object\n",
            "RiskAversion    3926 non-null object\n",
            "Accident        3926 non-null object\n",
            "DrivQuality     3926 non-null object\n",
            "ThisCarCost     3926 non-null object\n",
            "CarValue        3926 non-null object\n",
            "dtypes: object(6)\n",
            "memory usage: 214.7+ KB\n"
          ],
          "name": "stdout"
        }
      ]
    },
    {
      "cell_type": "markdown",
      "metadata": {
        "id": "ca4Rb2XwUlPF",
        "colab_type": "text"
      },
      "source": [
        "В итоге получим 3926 наблюдений без пропущенных значений. Теперь необходимо разделить выборку на обучение и тест: 80% и 20%."
      ]
    },
    {
      "cell_type": "code",
      "metadata": {
        "id": "t_CEiaF0RBid",
        "colab_type": "code",
        "colab": {}
      },
      "source": [
        "X = df.drop(columns=['ThisCarCost'])\n",
        "y = df['ThisCarCost']\n",
        "\n",
        "X_train, X_test, y_train, y_test = model_selection.train_test_split(X, y, test_size=0.2, random_state=42)\n",
        "\n",
        "train = pd.concat([X_train, y_train], axis=1)\n",
        "test = pd.concat([X_test, y_test], axis=1)"
      ],
      "execution_count": null,
      "outputs": []
    },
    {
      "cell_type": "code",
      "metadata": {
        "id": "ZtoitfKZRBig",
        "colab_type": "code",
        "colab": {},
        "outputId": "b47b9d3e-6435-4fd1-b73d-cbae21dd75d9"
      },
      "source": [
        "train.head()"
      ],
      "execution_count": null,
      "outputs": [
        {
          "output_type": "execute_result",
          "data": {
            "text/html": [
              "<div>\n",
              "<style scoped>\n",
              "    .dataframe tbody tr th:only-of-type {\n",
              "        vertical-align: middle;\n",
              "    }\n",
              "\n",
              "    .dataframe tbody tr th {\n",
              "        vertical-align: top;\n",
              "    }\n",
              "\n",
              "    .dataframe thead th {\n",
              "        text-align: right;\n",
              "    }\n",
              "</style>\n",
              "<table border=\"1\" class=\"dataframe\">\n",
              "  <thead>\n",
              "    <tr style=\"text-align: right;\">\n",
              "      <th></th>\n",
              "      <th>SocioEcon</th>\n",
              "      <th>RiskAversion</th>\n",
              "      <th>Accident</th>\n",
              "      <th>DrivQuality</th>\n",
              "      <th>CarValue</th>\n",
              "      <th>ThisCarCost</th>\n",
              "    </tr>\n",
              "  </thead>\n",
              "  <tbody>\n",
              "    <tr>\n",
              "      <th>5358</th>\n",
              "      <td>Prole</td>\n",
              "      <td>Normal</td>\n",
              "      <td>Moderate</td>\n",
              "      <td>Normal</td>\n",
              "      <td>FiveThou</td>\n",
              "      <td>TenThou</td>\n",
              "    </tr>\n",
              "    <tr>\n",
              "      <th>18764</th>\n",
              "      <td>Middle</td>\n",
              "      <td>Normal</td>\n",
              "      <td>Severe</td>\n",
              "      <td>Poor</td>\n",
              "      <td>FiveThou</td>\n",
              "      <td>TenThou</td>\n",
              "    </tr>\n",
              "    <tr>\n",
              "      <th>17384</th>\n",
              "      <td>Middle</td>\n",
              "      <td>Adventurous</td>\n",
              "      <td>Severe</td>\n",
              "      <td>Poor</td>\n",
              "      <td>FiveThou</td>\n",
              "      <td>TenThou</td>\n",
              "    </tr>\n",
              "    <tr>\n",
              "      <th>5681</th>\n",
              "      <td>Middle</td>\n",
              "      <td>Cautious</td>\n",
              "      <td>Moderate</td>\n",
              "      <td>Poor</td>\n",
              "      <td>TwentyThou</td>\n",
              "      <td>Thousand</td>\n",
              "    </tr>\n",
              "    <tr>\n",
              "      <th>2931</th>\n",
              "      <td>UpperMiddle</td>\n",
              "      <td>Adventurous</td>\n",
              "      <td>Severe</td>\n",
              "      <td>Poor</td>\n",
              "      <td>TwentyThou</td>\n",
              "      <td>HundredThou</td>\n",
              "    </tr>\n",
              "  </tbody>\n",
              "</table>\n",
              "</div>"
            ],
            "text/plain": [
              "         SocioEcon RiskAversion  Accident DrivQuality    CarValue  ThisCarCost\n",
              "5358         Prole       Normal  Moderate      Normal    FiveThou      TenThou\n",
              "18764       Middle       Normal    Severe        Poor    FiveThou      TenThou\n",
              "17384       Middle  Adventurous    Severe        Poor    FiveThou      TenThou\n",
              "5681        Middle     Cautious  Moderate        Poor  TwentyThou     Thousand\n",
              "2931   UpperMiddle  Adventurous    Severe        Poor  TwentyThou  HundredThou"
            ]
          },
          "metadata": {
            "tags": []
          },
          "execution_count": 8
        }
      ]
    },
    {
      "cell_type": "markdown",
      "metadata": {
        "id": "mtFWzidIU3Pd",
        "colab_type": "text"
      },
      "source": [
        "На всякий случай проверим, что в каждую выборку попали представители всех классов, а значит у нас не возникнет трудностей в процессе. Но это читерство."
      ]
    },
    {
      "cell_type": "code",
      "metadata": {
        "id": "UdUlmL9sRBij",
        "colab_type": "code",
        "colab": {},
        "outputId": "8c0c0dcb-900d-4c74-9db9-ebcd8c0369c6"
      },
      "source": [
        "train['ThisCarCost'].value_counts()"
      ],
      "execution_count": null,
      "outputs": [
        {
          "output_type": "execute_result",
          "data": {
            "text/plain": [
              "TenThou        1941\n",
              "HundredThou     744\n",
              "Thousand        445\n",
              "Million          10\n",
              "Name: ThisCarCost, dtype: int64"
            ]
          },
          "metadata": {
            "tags": []
          },
          "execution_count": 18
        }
      ]
    },
    {
      "cell_type": "code",
      "metadata": {
        "id": "N_409Yv2RBim",
        "colab_type": "code",
        "colab": {},
        "outputId": "ab97fa62-cb84-4114-9e0a-72ed3cff1d18"
      },
      "source": [
        "test['ThisCarCost'].value_counts()"
      ],
      "execution_count": null,
      "outputs": [
        {
          "output_type": "execute_result",
          "data": {
            "text/plain": [
              "TenThou        484\n",
              "HundredThou    189\n",
              "Thousand       111\n",
              "Million          2\n",
              "Name: ThisCarCost, dtype: int64"
            ]
          },
          "metadata": {
            "tags": []
          },
          "execution_count": 19
        }
      ]
    },
    {
      "cell_type": "markdown",
      "metadata": {
        "id": "WpfV1aypRBio",
        "colab_type": "text"
      },
      "source": [
        "### Построение БС № 1"
      ]
    },
    {
      "cell_type": "markdown",
      "metadata": {
        "id": "_a03uSg-VMSX",
        "colab_type": "text"
      },
      "source": [
        "Построим сеть с помощью первого наиболее простого алгоритма - exact-dp."
      ]
    },
    {
      "cell_type": "code",
      "metadata": {
        "id": "ulnzCSjsRBip",
        "colab_type": "code",
        "colab": {},
        "outputId": "a4b0a325-6bc6-4437-adcd-4cf4815a113d"
      },
      "source": [
        "bnet = BayesianNetwork.from_samples(train, algorithm='exact-dp')\n",
        "bnet.bake()\n",
        "\n",
        "colnames  = list(train)\n",
        "for i in range(train.shape[1]):\n",
        "    bnet.states[i].name = colnames[i]\n",
        "\n",
        "bnet.plot() "
      ],
      "execution_count": null,
      "outputs": [
        {
          "output_type": "display_data",
          "data": {
            "image/png": "[encoded data removed]",
            "text/plain": [
              "<Figure size 432x288 with 1 Axes>"
            ]
          },
          "metadata": {
            "tags": [],
            "needs_background": "light"
          }
        }
      ]
    },
    {
      "cell_type": "code",
      "metadata": {
        "id": "eZd51IZCRBis",
        "colab_type": "code",
        "colab": {},
        "outputId": "633564f8-7f63-4246-b690-015aa3fbeebc"
      },
      "source": [
        "bnet.predict_proba([[None, None, None, None, None, None]])[0][5].parameters"
      ],
      "execution_count": null,
      "outputs": [
        {
          "output_type": "execute_result",
          "data": {
            "text/plain": [
              "[{'Thousand': 0.1417197452229303,\n",
              "  'TenThou': 0.6181528662420374,\n",
              "  'HundredThou': 0.23694267515923567,\n",
              "  'Million': 0.0031847133757968364}]"
            ]
          },
          "metadata": {
            "tags": []
          },
          "execution_count": 10
        }
      ]
    },
    {
      "cell_type": "markdown",
      "metadata": {
        "id": "CwMQaC2hRBiv",
        "colab_type": "text"
      },
      "source": [
        "### Оценка качества структуры"
      ]
    },
    {
      "cell_type": "markdown",
      "metadata": {
        "id": "xw0fBFd5VaV9",
        "colab_type": "text"
      },
      "source": [
        "Здесь и далее для оценки качества построенной структуры используем логарифм правдоподобие байесовской сети."
      ]
    },
    {
      "cell_type": "code",
      "metadata": {
        "id": "EV_ljVo8RBiv",
        "colab_type": "code",
        "colab": {},
        "outputId": "3b0bee0a-b0ec-4b63-e4a5-06bb36446ae8"
      },
      "source": [
        "bnet.log_probability(train.values.tolist()).sum()"
      ],
      "execution_count": null,
      "outputs": [
        {
          "output_type": "execute_result",
          "data": {
            "text/plain": [
              "-13900.439161427848"
            ]
          },
          "metadata": {
            "tags": []
          },
          "execution_count": 11
        }
      ]
    },
    {
      "cell_type": "markdown",
      "metadata": {
        "id": "IbbquP0vRBiy",
        "colab_type": "text"
      },
      "source": [
        "### Предсказания"
      ]
    },
    {
      "cell_type": "markdown",
      "metadata": {
        "id": "408Va_vCVp8r",
        "colab_type": "text"
      },
      "source": [
        "Для дополнительной оценки на тестовой выборке используем точность предсказания модели и истинного значения переменной ThisCarCost."
      ]
    },
    {
      "cell_type": "code",
      "metadata": {
        "id": "L73jTCKFRBiy",
        "colab_type": "code",
        "colab": {},
        "outputId": "fa3b7612-70a5-4b83-b8a6-ae304821e9b3"
      },
      "source": [
        "bnet.bake()\n",
        "\n",
        "test_samples = pd.concat([X_test, pd.DataFrame([None]*test.shape[0])], axis=1)\n",
        "\n",
        "for i in range(5):\n",
        "    print(\"True:\\t\\t\", test.iloc[i, -1])\n",
        "    print(\"Prediction:\\t\", bnet.predict([test_samples.iloc[i, :].values.tolist()])[0][-1])\n",
        "    print()"
      ],
      "execution_count": null,
      "outputs": [
        {
          "output_type": "stream",
          "text": [
            "True:\t\t TenThou\n",
            "Prediction:\t TenThou\n",
            "\n",
            "True:\t\t TenThou\n",
            "Prediction:\t TenThou\n",
            "\n",
            "True:\t\t TenThou\n",
            "Prediction:\t TenThou\n",
            "\n",
            "True:\t\t Thousand\n",
            "Prediction:\t TenThou\n",
            "\n",
            "True:\t\t TenThou\n",
            "Prediction:\t TenThou\n",
            "\n"
          ],
          "name": "stdout"
        }
      ]
    },
    {
      "cell_type": "code",
      "metadata": {
        "id": "RG2lVx9_RBi1",
        "colab_type": "code",
        "colab": {}
      },
      "source": [
        "# Calculate accuracy between two lists\n",
        "def accuracy_metric(actual, predicted):\n",
        "    correct = 0\n",
        "    for i in range(len(actual)):\n",
        "        if actual[i] == predicted[i]:\n",
        "            correct += 1\n",
        "    return correct / float(len(actual))"
      ],
      "execution_count": null,
      "outputs": []
    },
    {
      "cell_type": "code",
      "metadata": {
        "id": "hR3oCjkSRBi3",
        "colab_type": "code",
        "colab": {},
        "outputId": "42f13564-4674-44a8-d0fb-5bda09dc0310"
      },
      "source": [
        "truly = y_test.values.tolist()\n",
        "preds = []\n",
        "\n",
        "for i in range(test.shape[0]):\n",
        "    preds.append(bnet.predict([test_samples.iloc[i, :].values.tolist()])[0][-1])\n",
        "\n",
        "accuracy_metric(truly, preds)"
      ],
      "execution_count": null,
      "outputs": [
        {
          "output_type": "execute_result",
          "data": {
            "text/plain": [
              "0.6170483460559797"
            ]
          },
          "metadata": {
            "tags": []
          },
          "execution_count": 14
        }
      ]
    },
    {
      "cell_type": "markdown",
      "metadata": {
        "id": "1KrqusAAV115",
        "colab_type": "text"
      },
      "source": [
        "Видим довольно низкую точность и подозрительно одинаковые ответы модели на тестовом примере. Посмотрим на соотношение всех данных моделью предсказаний."
      ]
    },
    {
      "cell_type": "code",
      "metadata": {
        "id": "79ckly2fRBi6",
        "colab_type": "code",
        "colab": {},
        "outputId": "a1fb834c-a293-4973-90cb-621fd54638fc"
      },
      "source": [
        "preds_df = pd.DataFrame(preds)\n",
        "preds_df.columns = ['preds']\n",
        "sns.countplot(x='preds', data=preds_df)"
      ],
      "execution_count": null,
      "outputs": [
        {
          "output_type": "execute_result",
          "data": {
            "text/plain": [
              "<matplotlib.axes._subplots.AxesSubplot at 0x7f437325ef98>"
            ]
          },
          "metadata": {
            "tags": []
          },
          "execution_count": 15
        },
        {
          "output_type": "display_data",
          "data": {
            "image/png": "[encoded data removed]",
            "text/plain": [
              "<Figure size 432x288 with 1 Axes>"
            ]
          },
          "metadata": {
            "tags": [],
            "needs_background": "light"
          }
        }
      ]
    },
    {
      "cell_type": "markdown",
      "metadata": {
        "id": "xCbuw7JoWFRZ",
        "colab_type": "text"
      },
      "source": [
        "Видим, что модель на 20% всей выборки дала только 2 ответа, причем один из классов значительно преобладает. Это объясняется сильной несбалансированностью вероятностей, данных моделью. Если вернутся выше и вновь посмотреть на результат вывода predict_proba, видно, что именно такой дисбаланс наблюдается и в данный моделью вероятностях событий."
      ]
    },
    {
      "cell_type": "markdown",
      "metadata": {
        "id": "F2ZRfumdRBi9",
        "colab_type": "text"
      },
      "source": [
        "### Построение БС №2"
      ]
    },
    {
      "cell_type": "markdown",
      "metadata": {
        "id": "Fq4EqmYFWrrb",
        "colab_type": "text"
      },
      "source": [
        "Попробуем другой алгоритм - chow-liu. Этот метод известен тем, что выполняет более приближенное построение структуры за счет того, что строит древовидные сети (т.е. у каждого фактора модели может быть только один родитель)."
      ]
    },
    {
      "cell_type": "code",
      "metadata": {
        "id": "CLFkiHlGRBi9",
        "colab_type": "code",
        "colab": {},
        "outputId": "d574426d-eeae-44d3-d237-b7aba8454d03"
      },
      "source": [
        "bnet2 = BayesianNetwork.from_samples(train, algorithm='chow-liu')\n",
        "bnet2.bake()\n",
        "\n",
        "colnames  = list(train)\n",
        "for i in range(train.shape[1]):\n",
        "    bnet2.states[i].name = colnames[i]\n",
        "\n",
        "bnet2.plot() "
      ],
      "execution_count": null,
      "outputs": [
        {
          "output_type": "display_data",
          "data": {
            "image/png": "[encoded data removed]",
            "text/plain": [
              "<Figure size 432x288 with 1 Axes>"
            ]
          },
          "metadata": {
            "tags": [],
            "needs_background": "light"
          }
        }
      ]
    },
    {
      "cell_type": "code",
      "metadata": {
        "id": "QJYdiqMORBjA",
        "colab_type": "code",
        "colab": {},
        "outputId": "9b53fe2f-4762-4835-ec9e-c0a0fc2a016f"
      },
      "source": [
        "bnet2.predict_proba([[None, None, None, None, None, None]])[0][5].parameters"
      ],
      "execution_count": null,
      "outputs": [
        {
          "output_type": "execute_result",
          "data": {
            "text/plain": [
              "[{'TenThou': 0.6181528662420369,\n",
              "  'Thousand': 0.1417197452229301,\n",
              "  'Million': 0.0031847133757969843,\n",
              "  'HundredThou': 0.23694267515923595}]"
            ]
          },
          "metadata": {
            "tags": []
          },
          "execution_count": 142
        }
      ]
    },
    {
      "cell_type": "markdown",
      "metadata": {
        "id": "NGjDV8bbXB0J",
        "colab_type": "text"
      },
      "source": [
        "Кажется, что структура сети поменялась, однако взаимосвязи между факторами остались теми же, точно так же, как предсказываемые вероятности."
      ]
    },
    {
      "cell_type": "markdown",
      "metadata": {
        "id": "tPcA3cpvRBjC",
        "colab_type": "text"
      },
      "source": [
        "### Оценка качества структуры № 2"
      ]
    },
    {
      "cell_type": "code",
      "metadata": {
        "id": "WRppOJdSRBjD",
        "colab_type": "code",
        "colab": {},
        "outputId": "2ca676b5-ac1c-4034-cc10-4a1a41e1014f"
      },
      "source": [
        "bnet2.log_probability(train.values.tolist()).sum()"
      ],
      "execution_count": null,
      "outputs": [
        {
          "output_type": "execute_result",
          "data": {
            "text/plain": [
              "-13875.359323292669"
            ]
          },
          "metadata": {
            "tags": []
          },
          "execution_count": 143
        }
      ]
    },
    {
      "cell_type": "markdown",
      "metadata": {
        "id": "ZReJ0bVUXLuA",
        "colab_type": "text"
      },
      "source": [
        "Правдоподобие модели немного улучшилось."
      ]
    },
    {
      "cell_type": "markdown",
      "metadata": {
        "id": "veSAla1dRBjF",
        "colab_type": "text"
      },
      "source": [
        "### Предсказания"
      ]
    },
    {
      "cell_type": "code",
      "metadata": {
        "id": "0EzsGwYjRBjG",
        "colab_type": "code",
        "colab": {},
        "outputId": "a0b4bd0d-e76d-4ca5-9aa2-ab1c63b8313b"
      },
      "source": [
        "bnet2.bake()\n",
        "    \n",
        "preds2 = []\n",
        "for i in range(test.shape[0]):\n",
        "    preds2.append(bnet2.predict([test_samples.iloc[i, :].values.tolist()])[0][-1])\n",
        "\n",
        "accuracy_metric(truly, preds2)"
      ],
      "execution_count": null,
      "outputs": [
        {
          "output_type": "execute_result",
          "data": {
            "text/plain": [
              "0.6170483460559797"
            ]
          },
          "metadata": {
            "tags": []
          },
          "execution_count": 146
        }
      ]
    },
    {
      "cell_type": "code",
      "metadata": {
        "id": "N8xkO92pRBjI",
        "colab_type": "code",
        "colab": {},
        "outputId": "5442902d-dbe2-4879-dc9a-54400d0575bf"
      },
      "source": [
        "preds_df2 = pd.DataFrame(preds2)\n",
        "preds_df2.columns = ['preds']\n",
        "sns.countplot(x='preds', data=preds_df2)"
      ],
      "execution_count": null,
      "outputs": [
        {
          "output_type": "execute_result",
          "data": {
            "text/plain": [
              "<matplotlib.axes._subplots.AxesSubplot at 0x7f3aa4419278>"
            ]
          },
          "metadata": {
            "tags": []
          },
          "execution_count": 147
        },
        {
          "output_type": "display_data",
          "data": {
            "image/png": "[encoded data removed]",
            "text/plain": [
              "<Figure size 432x288 with 1 Axes>"
            ]
          },
          "metadata": {
            "tags": [],
            "needs_background": "light"
          }
        }
      ]
    },
    {
      "cell_type": "markdown",
      "metadata": {
        "id": "Su7tlrdzXPXv",
        "colab_type": "text"
      },
      "source": [
        "Распределение ответов модели осталось неизменным, как и значение точности. Впрочем, это ожидаемый результат с теми же вероятностями."
      ]
    },
    {
      "cell_type": "markdown",
      "metadata": {
        "id": "VnqRnRUkRBjL",
        "colab_type": "text"
      },
      "source": [
        "### Построене БС № 3"
      ]
    },
    {
      "cell_type": "markdown",
      "metadata": {
        "id": "S01dIyD5XeGb",
        "colab_type": "text"
      },
      "source": [
        "Перепроверим структуру на устойчивость и построим байесовскую сеть жадным алгоритмом. "
      ]
    },
    {
      "cell_type": "code",
      "metadata": {
        "id": "UibD__6kRBjL",
        "colab_type": "code",
        "colab": {},
        "outputId": "d87faf30-7022-44e1-ca7a-26a306d430f6"
      },
      "source": [
        "bnet3 = BayesianNetwork.from_samples(train, algorithm='greedy')\n",
        "bnet3.bake()\n",
        "\n",
        "colnames  = list(train)\n",
        "for i in range(train.shape[1]):\n",
        "    bnet3.states[i].name = colnames[i]\n",
        "\n",
        "bnet3.plot() "
      ],
      "execution_count": null,
      "outputs": [
        {
          "output_type": "display_data",
          "data": {
            "image/png": "[encoded data removed]",
            "text/plain": [
              "<Figure size 432x288 with 1 Axes>"
            ]
          },
          "metadata": {
            "tags": [],
            "needs_background": "light"
          }
        }
      ]
    },
    {
      "cell_type": "code",
      "metadata": {
        "id": "IdjDm8o2RBjN",
        "colab_type": "code",
        "colab": {},
        "outputId": "9626b513-0470-4172-c05e-fb38256472a5"
      },
      "source": [
        "bnet3.bake()\n",
        "bnet3.predict_proba([[None, None, None, None, None, None]])[0][5].parameters"
      ],
      "execution_count": null,
      "outputs": [
        {
          "output_type": "execute_result",
          "data": {
            "text/plain": [
              "[{'TenThou': 0.6181528662420376,\n",
              "  'Thousand': 0.14171974522293018,\n",
              "  'HundredThou': 0.23694267515923575,\n",
              "  'Million': 0.0031847133757966157}]"
            ]
          },
          "metadata": {
            "tags": []
          },
          "execution_count": 152
        }
      ]
    },
    {
      "cell_type": "markdown",
      "metadata": {
        "id": "oynHXIDDX6KZ",
        "colab_type": "text"
      },
      "source": [
        "Обратим внимание, что структура сильно изменилась - взаимосвязи факторов поменялись. Посмотрим, повлияет ли это на результат предсказаний."
      ]
    },
    {
      "cell_type": "markdown",
      "metadata": {
        "id": "OK83WNp4RBjQ",
        "colab_type": "text"
      },
      "source": [
        "### Оценка качества структуры № 3"
      ]
    },
    {
      "cell_type": "code",
      "metadata": {
        "id": "TSwbpYsHRBjR",
        "colab_type": "code",
        "colab": {},
        "outputId": "9b1d0cb8-0d33-4511-af77-6861e3957ef1"
      },
      "source": [
        "bnet3.log_probability(train.values.tolist()).sum()"
      ],
      "execution_count": null,
      "outputs": [
        {
          "output_type": "execute_result",
          "data": {
            "text/plain": [
              "-13900.439161427848"
            ]
          },
          "metadata": {
            "tags": []
          },
          "execution_count": 153
        }
      ]
    },
    {
      "cell_type": "markdown",
      "metadata": {
        "id": "T-ZBx8ZxYLXP",
        "colab_type": "text"
      },
      "source": [
        "Обидно, качество снова ухудшилось."
      ]
    },
    {
      "cell_type": "markdown",
      "metadata": {
        "id": "DkKFkBiKRBjT",
        "colab_type": "text"
      },
      "source": [
        "### Предсказания"
      ]
    },
    {
      "cell_type": "code",
      "metadata": {
        "id": "c-CeMsKgRBjU",
        "colab_type": "code",
        "colab": {},
        "outputId": "feff242d-dccc-4787-b903-7a52afe936a9"
      },
      "source": [
        "preds3 = []\n",
        "for i in range(test.shape[0]):\n",
        "    bnet3.bake()\n",
        "    preds3.append(bnet3.predict([test_samples.iloc[i, :].values.tolist()])[0][-1])\n",
        "\n",
        "accuracy_metric(truly, preds3)"
      ],
      "execution_count": null,
      "outputs": [
        {
          "output_type": "execute_result",
          "data": {
            "text/plain": [
              "0.6170483460559797"
            ]
          },
          "metadata": {
            "tags": []
          },
          "execution_count": 154
        }
      ]
    },
    {
      "cell_type": "code",
      "metadata": {
        "id": "-_I-Q8nLRBjW",
        "colab_type": "code",
        "colab": {},
        "outputId": "68f51c3d-ce6e-4018-f1ad-b80f0791166d"
      },
      "source": [
        "preds_df3 = pd.DataFrame(preds3)\n",
        "preds_df3.columns = ['preds']\n",
        "sns.countplot(x='preds', data=preds_df3)"
      ],
      "execution_count": null,
      "outputs": [
        {
          "output_type": "execute_result",
          "data": {
            "text/plain": [
              "<matplotlib.axes._subplots.AxesSubplot at 0x7f3aa4302e10>"
            ]
          },
          "metadata": {
            "tags": []
          },
          "execution_count": 155
        },
        {
          "output_type": "display_data",
          "data": {
            "image/png": "[encoded data removed]",
            "text/plain": [
              "<Figure size 432x288 with 1 Axes>"
            ]
          },
          "metadata": {
            "tags": [],
            "needs_background": "light"
          }
        }
      ]
    },
    {
      "cell_type": "markdown",
      "metadata": {
        "id": "-lIAXkrTYQ-f",
        "colab_type": "text"
      },
      "source": [
        "И ответы остались теми же. \n"
      ]
    },
    {
      "cell_type": "markdown",
      "metadata": {
        "id": "Y1PHL4Z3aObg",
        "colab_type": "text"
      },
      "source": [
        "Полученные модели, хоть и имеют отличные структуры, на статистических данных дают одни и те же априорные распределения для расходов на застрахованный автомобиль. Из этого следует и одинаковость предсказаний и значений точности. Такое единогласное предсказание лишний раз подтверждает вариативность и неоднозначность возможных структур взаимосвязей факторов модели. Данный пример наглядно показал, как даже отличающиеся структуры могут давать ярко выраженные ответы за счет сильного расхождения априорных вероятностей. Вероятно, в более интересном случае с вероятностями близкими к 0.5 удалось бы получить больше спорных случаев. \n",
        "\n",
        "В качестве путей к этим \"более интересным\" случаям можно предложить выбор других переменных с менее очевидными взаимосвязями. В реальном кейсе можно было бы привлечь экспертов и ввестие дополнительные разумные ограничения на структуру сети. Это позволило бы модели получить оптимальную и разумную интерпретацию и,возможно, лучшую предсказательную способность.\n",
        "\n",
        "Однако экспертную оценку в данном случае подключать нет возможности, поэтому лидера можно определить лишь формально основываясь на метрике правдоподобия. Тогда предпочтительной моделью становится байесовская сеть, построенная методом chow-liu.\n",
        "\n",
        "Основываясь на данной модели, можно заключить, что социально-экономический статус водителя влияет на склонность избегать риски и на стоимость автомобиля. Наличие тяги к риску воздействует на качество вождения, а стоимость автомобиля, в свою очередь, оказывает влияние на расходы страховки. До этого момента все звучит логично с точки зрения здравого смысла, однако на финише сеть устанавливает, что расходы на застрахованный автомобиль влияют на тяжесть несчастного случая, что сомнительно. В этом случае, ручна корректировка ограничений на связи в графе сыграла бы лучшую роль."
      ]
    },
    {
      "cell_type": "code",
      "metadata": {
        "id": "Oj9eoQZrcaDV",
        "colab_type": "code",
        "colab": {}
      },
      "source": [
        ""
      ],
      "execution_count": null,
      "outputs": []
    }
  ]
}